{
 "cells": [
  {
   "cell_type": "code",
   "execution_count": 2,
   "id": "d144da78-bff1-4153-beff-487fb56a3dd9",
   "metadata": {},
   "outputs": [],
   "source": [
    "#import libraries\n",
    "\n",
    "from bs4 import BeautifulSoup\n",
    "import requests\n",
    "import time\n",
    "import datetime\n",
    "\n",
    "import smtplib"
   ]
  },
  {
   "cell_type": "code",
   "execution_count": null,
   "id": "69089ce4-cb81-4fc6-a894-d3f6333e6060",
   "metadata": {},
   "outputs": [],
   "source": []
  },
  {
   "cell_type": "code",
   "execution_count": 22,
   "id": "5998739a-d3c3-4511-a6a0-6ec8c11d801f",
   "metadata": {},
   "outputs": [
    {
     "name": "stdout",
     "output_type": "stream",
     "text": [
      "\n",
      "             Amazon Basics Lightweight Super Soft Easy Care Microfiber 3-Piece Bed Sheet Set With 14-inch Deep Pockets, Twin XL, Dark Gray, Solid\n",
      "            \n",
      "$13.99\n",
      "4.5 out of 5 stars\n"
     ]
    }
   ],
   "source": [
    "#connect to website\n",
    "URL = 'https://www.amazon.com/Amazon-Basics-Lightweight-Microfiber-Pockets/dp/B00Q7OAN50/ref=zg_bs_c_home-garden_d_sccl_5/143-1938782-1926369?pd_rd_w=1EbrB&content-id=amzn1.sym.7379aab7-0dd8-4729-b0b5-2074f1cb413d&pf_rd_p=7379aab7-0dd8-4729-b0b5-2074f1cb413d&pf_rd_r=KTJWXMVYEZ8EWPAS70FV&pd_rd_wg=LLztl&pd_rd_r=569f05cd-2ed7-47af-b89f-75385c637511&pd_rd_i=B00Q7OAN50&th=1'\n",
    "headers = {\"User-Agent\": \"Mozilla/5.0 (Windows NT 10.0; Win64; x64) AppleWebKit/537.36 (KHTML, like Gecko) Chrome/121.0.0.0 Safari/537.36 OPR/107.0.0.0\", \"Accept-Encoding\":\"gzip, deflate\", \"Accept\":\"text/html,application/xhtml+xml,application/xml;q=0.9,*/*;q=0.8\", \"DNT\":\"1\",\"Connection\":\"close\", \"Upgrade-Insecure-Requests\":\"1\"}\n",
    "\n",
    "page = requests.get(URL, headers=headers)\n",
    "\n",
    "soup1 = BeautifulSoup(page.content, \"html.parser\")\n",
    "\n",
    "soup2 = BeautifulSoup(soup1.prettify(), \"html.parser\")\n",
    "\n",
    "title = soup2.find(id='productTitle').get_text()\n",
    "\n",
    "price = soup2.find('span', class_='aok-offscreen').get_text(strip=True)\n",
    "\n",
    "rating = soup2.find('span', class_='a-icon-alt').get_text(strip = True)\n",
    "\n",
    "\n",
    "print(title)\n",
    "print(price)\n",
    "print(rating)\n",
    "\n",
    "\n"
   ]
  },
  {
   "cell_type": "code",
   "execution_count": 23,
   "id": "aa608fd4-bc84-4cba-8d01-62c0cd66260a",
   "metadata": {},
   "outputs": [
    {
     "name": "stdout",
     "output_type": "stream",
     "text": [
      "Amazon Basics Lightweight Super Soft Easy Care Microfiber 3-Piece Bed Sheet Set With 14-inch Deep Pockets, Twin XL, Dark Gray, Solid\n",
      "13.99\n",
      "4.5 out of 5 stars\n"
     ]
    }
   ],
   "source": [
    "#clean up the data\n",
    "\n",
    "price = price.strip()[1:]\n",
    "title = title.strip()\n",
    "rating = rating.strip()\n",
    "\n",
    "print(title)\n",
    "print(price)\n",
    "print(rating)\n"
   ]
  },
  {
   "cell_type": "code",
   "execution_count": 24,
   "id": "e3ffbf7c-42ed-4a65-9a88-58b66e7d5c64",
   "metadata": {},
   "outputs": [
    {
     "name": "stdout",
     "output_type": "stream",
     "text": [
      "2024-06-03\n"
     ]
    }
   ],
   "source": [
    "#create a timestamp for when the data was pulled\n",
    "\n",
    "import datetime\n",
    "\n",
    "today = datetime.date.today()\n",
    "\n",
    "print(today)"
   ]
  },
  {
   "cell_type": "code",
   "execution_count": 27,
   "id": "51249998-f406-4c75-865c-da4804950444",
   "metadata": {},
   "outputs": [],
   "source": [
    "#create a CSV and write headers and data into the file\n",
    "\n",
    "import csv\n",
    "\n",
    "header = ['Title', 'Price','Rating', 'Date']\n",
    "data = [title, price, rating,  today]\n",
    "\n",
    "with open('AmazonWebScraper.csv', 'w', newline = '', encoding = 'UTF8') as f:\n",
    "    writer = csv.writer(f)\n",
    "    writer.writerow(header)\n",
    "    writer.writerow(data)"
   ]
  },
  {
   "cell_type": "code",
   "execution_count": 28,
   "id": "5e0737ab-0583-4f79-9324-7885f1103655",
   "metadata": {},
   "outputs": [
    {
     "name": "stdout",
     "output_type": "stream",
     "text": [
      "                                               Title  Price  \\\n",
      "0  Amazon Basics Lightweight Super Soft Easy Care...  13.99   \n",
      "\n",
      "               Rating        Date  \n",
      "0  4.5 out of 5 stars  2024-06-03  \n"
     ]
    }
   ],
   "source": [
    "import pandas as pd\n",
    "\n",
    "df = pd.read_csv(r'C:\\Users\\kodyb\\AmazonWebScraper.csv')\n",
    "\n",
    "print(df)"
   ]
  },
  {
   "cell_type": "code",
   "execution_count": 29,
   "id": "edbf7072-eb02-4454-80a4-1acc0094bb36",
   "metadata": {},
   "outputs": [],
   "source": [
    "#now we append data to the set\n",
    "\n",
    "with open('AmazonWebScraper.csv', 'a+', newline = '', encoding = 'UTF8') as f:\n",
    "    writer = csv.writer(f)\n",
    "    writer.writerow(data)"
   ]
  },
  {
   "cell_type": "code",
   "execution_count": 31,
   "id": "b2ddcca3-48d6-40c0-a37a-257c7eef976c",
   "metadata": {},
   "outputs": [],
   "source": [
    "\n",
    "\n",
    "def check_price():\n",
    "    URL = 'https://www.amazon.com/Amazon-Basics-Lightweight-Microfiber-Pockets/dp/B00Q7OAN50/ref=zg_bs_c_home-garden_d_sccl_5/143-1938782-1926369?pd_rd_w=1EbrB&content-id=amzn1.sym.7379aab7-0dd8-4729-b0b5-2074f1cb413d&pf_rd_p=7379aab7-0dd8-4729-b0b5-2074f1cb413d&pf_rd_r=KTJWXMVYEZ8EWPAS70FV&pd_rd_wg=LLztl&pd_rd_r=569f05cd-2ed7-47af-b89f-75385c637511&pd_rd_i=B00Q7OAN50&th=1'\n",
    "    headers = {\"User-Agent\": \"Mozilla/5.0 (Windows NT 10.0; Win64; x64) AppleWebKit/537.36 (KHTML, like Gecko) Chrome/121.0.0.0 Safari/537.36 OPR/107.0.0.0\", \"Accept-Encoding\":\"gzip, deflate\", \"Accept\":\"text/html,application/xhtml+xml,application/xml;q=0.9,*/*;q=0.8\", \"DNT\":\"1\",\"Connection\":\"close\", \"Upgrade-Insecure-Requests\":\"1\"}\n",
    "\n",
    "    page = requests.get(URL, headers=headers)\n",
    "\n",
    "    soup1 = BeautifulSoup(page.content, \"html.parser\")\n",
    "\n",
    "    soup2 = BeautifulSoup(soup1.prettify(), \"html.parser\")\n",
    "\n",
    "    title = soup2.find(id='productTitle').get_text()\n",
    "\n",
    "    price = soup2.find('span', class_='aok-offscreen').get_text(strip=True)\n",
    "\n",
    "    rating = soup2.find('span', class_='a-icon-alt').get_text(strip = True)\n",
    "\n",
    "    price = price.strip()[1:]\n",
    "    title = title.strip()\n",
    "    rating = rating.strip()\n",
    "\n",
    "    import datetime\n",
    "\n",
    "    today = datetime.date.today()\n",
    "\n",
    "    import csv\n",
    "\n",
    "    header = ['Title', 'Price','Rating', 'Date']\n",
    "    data = [title, price, rating,  today]\n",
    "\n",
    "    with open('AmazonWebScraper.csv', 'a+', newline = '', encoding = 'UTF8') as f:\n",
    "        writer = csv.writer(f)\n",
    "        writer.writerow(data)"
   ]
  },
  {
   "cell_type": "code",
   "execution_count": null,
   "id": "69febca1-4093-439d-b5ae-5ec542e3734d",
   "metadata": {},
   "outputs": [],
   "source": [
    "# Runs check_price after a set time(once a day here) and inputs data into your CSV\n",
    "\n",
    "while(True):\n",
    "    check_price()\n",
    "    time.sleep(86400)"
   ]
  },
  {
   "cell_type": "code",
   "execution_count": null,
   "id": "4cdcd970-921a-4fa6-8bdf-97f67ddaed5d",
   "metadata": {},
   "outputs": [],
   "source": [
    "#You can send yourself an email when a price hits below a certain level\n",
    "\n",
    "def send_mail():\n",
    "    server = smtplib.SMTP_SSL('smtp.gmail.com',465)\n",
    "    server.ehlo()\n",
    "    #server.starttls()\n",
    "    server.ehlo()\n",
    "    server.login('InputYourEmailHere','xxxxxxxxxxxxxx')\n",
    "    \n",
    "    subject = \"The sheets you want is below $10! Now is your chance to buy!\"\n",
    "    body = \"Hey, This is the moment we have been waiting for. Now is your chance to pick up the sheets. Don't mess it up! Link here: https://www.amazon.com/Amazon-Basics-Lightweight-Microfiber-Pockets/dp/B00Q7OAN50/ref=zg_bs_c_home-garden_d_sccl_5/143-1938782-1926369?pd_rd_w=1EbrB&content-id=amzn1.sym.7379aab7-0dd8-4729-b0b5-2074f1cb413d&pf_rd_p=7379aab7-0dd8-4729-b0b5-2074f1cb413d&pf_rd_r=KTJWXMVYEZ8EWPAS70FV&pd_rd_wg=LLztl&pd_rd_r=569f05cd-2ed7-47af-b89f-75385c637511&pd_rd_i=B00Q7OAN50&th=1\"\n",
    "   \n",
    "    msg = f\"Subject: {subject}\\n\\n{body}\"\n",
    "    \n",
    "    server.sendmail(\n",
    "        'InputYourEmailHere',\n",
    "        msg\n",
    "     \n",
    "    )"
   ]
  },
  {
   "cell_type": "code",
   "execution_count": null,
   "id": "8b654638-26eb-4068-a597-6ece9013c42d",
   "metadata": {},
   "outputs": [],
   "source": []
  }
 ],
 "metadata": {
  "kernelspec": {
   "display_name": "Python 3 (ipykernel)",
   "language": "python",
   "name": "python3"
  },
  "language_info": {
   "codemirror_mode": {
    "name": "ipython",
    "version": 3
   },
   "file_extension": ".py",
   "mimetype": "text/x-python",
   "name": "python",
   "nbconvert_exporter": "python",
   "pygments_lexer": "ipython3",
   "version": "3.11.7"
  }
 },
 "nbformat": 4,
 "nbformat_minor": 5
}
